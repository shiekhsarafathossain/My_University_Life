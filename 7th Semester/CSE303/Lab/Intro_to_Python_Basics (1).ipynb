{
 "cells": [
  {
   "cell_type": "markdown",
   "id": "fdb9a044",
   "metadata": {},
   "source": [
    "# Introduction to Python\n",
    "Welcome to Python! This notebook will cover the basics of Python programming language."
   ]
  },
  {
   "cell_type": "markdown",
   "id": "5fbc66d0",
   "metadata": {},
   "source": [
    "## Basic Syntax\n",
    "Python is known for its easy-to-read syntax. Let's start with simple variable assignments and print statements."
   ]
  },
  {
   "cell_type": "code",
   "execution_count": null,
   "id": "586354f4",
   "metadata": {},
   "outputs": [],
   "source": [
    "x = 5\n",
    "y = 10\n",
    "print('The value of x is:', x)\n",
    "print('The value of y is:', y)"
   ]
  },
  {
   "cell_type": "markdown",
   "id": "f9d96ec3",
   "metadata": {},
   "source": [
    "## Variables and Data Types\n",
    "Python supports various data types including integers, floats, strings, and booleans. You can also use type() to check the data type of a variable."
   ]
  },
  {
   "cell_type": "code",
   "execution_count": null,
   "id": "799971ca",
   "metadata": {},
   "outputs": [],
   "source": [
    "a = 5           # integer\n",
    "b = 3.14        # float\n",
    "c = 'Hello'     # string\n",
    "d = True        # boolean\n",
    "print(type(a))\n",
    "print(type(b))\n",
    "print(type(c))\n",
    "print(type(d))"
   ]
  },
  {
   "cell_type": "markdown",
   "id": "4252d4e3",
   "metadata": {},
   "source": [
    "# Lists in Python\n",
    "\n",
    "A **list** is a mutable, ordered collection of items in Python. Lists can contain items of different types, such as integers, strings, or even other lists. Lists allow duplicate values and are versatile for a range of data storage needs.\n",
    "\n",
    "### Creating a List\n",
    "\n",
    "You can create a list using square brackets `[]` and separate elements by commas.\n"
   ]
  },
  {
   "cell_type": "code",
   "execution_count": null,
   "id": "fa2a5ab4",
   "metadata": {},
   "outputs": [],
   "source": [
    "my_list = [1, 2, 3, 4, 5]\n",
    "print('First element:', my_list[0])\n",
    "my_list.append(6)\n",
    "print('Updated list:', my_list)"
   ]
  },
  {
   "cell_type": "markdown",
   "id": "2bc28b1a",
   "metadata": {},
   "source": [
    "### Accessing List Elements\n",
    "List elements are accessed by their index, starting from 0 for the first element."
   ]
  },
  {
   "cell_type": "code",
   "execution_count": null,
   "id": "d9db0499",
   "metadata": {},
   "outputs": [],
   "source": [
    "# Accessing elements in a list\n",
    "my_list = [\"Python\", \"Java\", \"C++\"]\n",
    "print(my_list[0])  # Output: 'Python'\n",
    "print(my_list[1])  # Output: 'Java'\n"
   ]
  },
  {
   "cell_type": "markdown",
   "id": "8e36b9f4",
   "metadata": {},
   "source": [
    "### Modifying List Elements\n",
    "Lists are mutable, so you can change the values of specific elements."
   ]
  },
  {
   "cell_type": "code",
   "execution_count": null,
   "id": "bcc9a69b",
   "metadata": {},
   "outputs": [],
   "source": [
    "# Modifying elements in a list\n",
    "fruits = [\"apple\", \"banana\", \"cherry\"]\n",
    "fruits[1] = \"orange\"\n",
    "print(fruits)  # Output: ['apple', 'orange', 'cherry']\n"
   ]
  },
  {
   "cell_type": "markdown",
   "id": "9766c17c",
   "metadata": {},
   "source": [
    "### Adding Elements to a List\n",
    "You can add elements to a list using methods like append() (for single items) or extend() (for multiple items).\n",
    "\n"
   ]
  },
  {
   "cell_type": "code",
   "execution_count": null,
   "id": "301204f7",
   "metadata": {},
   "outputs": [],
   "source": [
    "# Adding elements to a list\n",
    "numbers = [1, 2, 3]\n",
    "numbers.append(4)\n",
    "print(numbers)  # Output: [1, 2, 3, 4]"
   ]
  },
  {
   "cell_type": "code",
   "execution_count": null,
   "id": "8de68e7e",
   "metadata": {},
   "outputs": [],
   "source": [
    "# Adding multiple elements\n",
    "numbers.extend([5, 6])\n",
    "print(numbers)  # Output: [1, 2, 3, 4, 5, 6]"
   ]
  },
  {
   "cell_type": "markdown",
   "id": "dedd3d0d",
   "metadata": {},
   "source": [
    "### Removing Elements from a List\n",
    "You can remove elements using methods like remove(), pop(), or del."
   ]
  },
  {
   "cell_type": "code",
   "execution_count": null,
   "id": "28b9ac35",
   "metadata": {},
   "outputs": [],
   "source": [
    "# Removing elements from a list\n",
    "colors = [\"red\", \"green\", \"blue\", \"yellow\"]\n",
    "colors.remove(\"green\")  # Removes \"green\"\n",
    "print(colors)  # Output: ['red', 'blue', 'yellow']"
   ]
  },
  {
   "cell_type": "code",
   "execution_count": null,
   "id": "ce791f8b",
   "metadata": {},
   "outputs": [],
   "source": [
    "# Using pop() to remove by index\n",
    "colors.pop(1)\n",
    "print(colors)  # Output: ['red', 'yellow']"
   ]
  },
  {
   "cell_type": "markdown",
   "id": "028d95b3",
   "metadata": {},
   "source": [
    "### Looping Through a List\n",
    "You can use a for loop to iterate over the elements of a list."
   ]
  },
  {
   "cell_type": "code",
   "execution_count": null,
   "id": "f866bef1",
   "metadata": {},
   "outputs": [],
   "source": [
    "# Looping through a list\n",
    "animals = [\"cat\", \"dog\", \"rabbit\"]\n",
    "for animal in animals:\n",
    "    print(animal)\n"
   ]
  },
  {
   "cell_type": "markdown",
   "id": "0713129a",
   "metadata": {},
   "source": [
    "### Nested Lists\n",
    "Lists can contain other lists, creating a nested list structure."
   ]
  },
  {
   "cell_type": "code",
   "execution_count": null,
   "id": "c6d4095e",
   "metadata": {},
   "outputs": [],
   "source": [
    "# Example of a nested list\n",
    "nested_list = [[1, 2, 3], [\"a\", \"b\", \"c\"]]\n",
    "print(nested_list[0])  # Output: [1, 2, 3]\n",
    "print(nested_list[1][1])  # Output: 'b'\n"
   ]
  },
  {
   "cell_type": "markdown",
   "id": "1a1974e8",
   "metadata": {},
   "source": [
    "Lists are one of the most flexible and widely used data structures in Python, capable of storing and manipulating a variety of data types efficiently."
   ]
  },
  {
   "cell_type": "markdown",
   "id": "d1d055f9",
   "metadata": {},
   "source": [
    "# Dictionaries in Python\n",
    "\n",
    "A **dictionary** in Python is an unordered collection of items. Each item is stored as a key-value pair, where **keys** are unique, immutable data types (e.g., strings, numbers), and **values** can be any data type. Dictionaries are useful for storing data that can be looked up by a specific identifier, such as names or IDs.\n",
    "\n",
    "### Creating a Dictionary\n",
    "\n",
    "You can create a dictionary using curly braces `{}` with key-value pairs separated by a colon `:`.\n"
   ]
  },
  {
   "cell_type": "code",
   "execution_count": null,
   "id": "c70e9c54",
   "metadata": {},
   "outputs": [],
   "source": [
    "# Example of a dictionary\n",
    "person = {\"name\": \"Alice\", \"age\": 25, \"city\": \"New York\"}\n",
    "print(person)"
   ]
  },
  {
   "cell_type": "markdown",
   "id": "1dc07289",
   "metadata": {},
   "source": [
    "### Accessing Values\n",
    "You can access the values in a dictionary by referencing the key."
   ]
  },
  {
   "cell_type": "code",
   "execution_count": null,
   "id": "e8ed9e27",
   "metadata": {},
   "outputs": [],
   "source": [
    "# Adding a new key-value pair\n",
    "person = {\"name\": \"Alice\", \"age\": 25}\n",
    "person[\"city\"] = \"New York\"\n",
    "print(person)"
   ]
  },
  {
   "cell_type": "code",
   "execution_count": null,
   "id": "2044e2b8",
   "metadata": {},
   "outputs": [],
   "source": [
    "# Modifying an existing value\n",
    "person[\"age\"] = 26\n",
    "print(person)"
   ]
  },
  {
   "cell_type": "markdown",
   "id": "2b35edee",
   "metadata": {},
   "source": [
    "### Removing Key-Value Pairs\n",
    "You can remove items from a dictionary using the del keyword or the pop() method"
   ]
  },
  {
   "cell_type": "code",
   "execution_count": null,
   "id": "d1dbbed8",
   "metadata": {},
   "outputs": [],
   "source": [
    "# Removing a key-value pair with del\n",
    "person = {\"name\": \"Alice\", \"age\": 25, \"city\": \"New York\"}\n",
    "del person[\"age\"]\n",
    "print(person) "
   ]
  },
  {
   "cell_type": "code",
   "execution_count": null,
   "id": "6466740a",
   "metadata": {},
   "outputs": [],
   "source": [
    "# Removing a key-value pair with pop()\n",
    "person.pop(\"city\")\n",
    "print(person) "
   ]
  },
  {
   "cell_type": "markdown",
   "id": "81cdf945",
   "metadata": {},
   "source": [
    "### Looping Through a Dictionary\n",
    "You can loop through dictionaries to access keys, values, or both."
   ]
  },
  {
   "cell_type": "code",
   "execution_count": null,
   "id": "98eeec82",
   "metadata": {},
   "outputs": [],
   "source": [
    "# Looping through keys and values\n",
    "person = {\"name\": \"Alice\", \"age\": 25, \"city\": \"New York\"}\n",
    "for key, value in person.items():\n",
    "    print(key, \":\", value)"
   ]
  },
  {
   "cell_type": "markdown",
   "id": "62dc346d",
   "metadata": {},
   "source": [
    "### Checking for Key Existence\n",
    "Use the in keyword to check if a key exists in a dictionary."
   ]
  },
  {
   "cell_type": "code",
   "execution_count": null,
   "id": "2873922b",
   "metadata": {},
   "outputs": [],
   "source": [
    "# Checking if a key exists\n",
    "person = {\"name\": \"Alice\", \"age\": 25}\n",
    "if \"name\" in person:\n",
    "    print(\"Name is present.\")\n",
    "else:\n",
    "    print(\"Name is not present.\")"
   ]
  },
  {
   "cell_type": "markdown",
   "id": "e56f1b56",
   "metadata": {},
   "source": [
    "### Nested Dictionaries\n",
    "Dictionaries can contain other dictionaries, allowing for nested structures."
   ]
  },
  {
   "cell_type": "code",
   "execution_count": null,
   "id": "e3e0350e",
   "metadata": {},
   "outputs": [],
   "source": [
    "# Example of a nested dictionary\n",
    "students = {\n",
    "    \"student1\": {\"name\": \"Alice\", \"age\": 25},\n",
    "    \"student2\": {\"name\": \"Bob\", \"age\": 22}\n",
    "}\n",
    "print(students[\"student1\"][\"name\"])"
   ]
  },
  {
   "cell_type": "markdown",
   "id": "65c5e3e4",
   "metadata": {},
   "source": [
    "# Sets in Python\n",
    "\n",
    "A **set** is an unordered collection of unique elements in Python. Sets are mutable, meaning you can change them after their creation, but they do not allow duplicate values. Sets are useful when you want to store a collection of items without caring about their order and without duplicates.\n",
    "\n",
    "### Creating a Set\n",
    "\n",
    "You can create a set using curly braces `{}` or the `set()` constructor."
   ]
  },
  {
   "cell_type": "code",
   "execution_count": null,
   "id": "1e8ea5fb",
   "metadata": {},
   "outputs": [],
   "source": [
    "# Example of creating a set\n",
    "my_set = {1, 2, 3, 4, 5}\n",
    "print(my_set)  # Output: {1, 2, 3, 4, 5}\n",
    "\n",
    "# Creating a set using the set() constructor\n",
    "another_set = set([1, 2, 3, 3, 4])  # Duplicate '3' will be ignored\n",
    "print(another_set)  # Output: {1, 2, 3, 4}"
   ]
  },
  {
   "cell_type": "markdown",
   "id": "ee452c19",
   "metadata": {},
   "source": [
    "## Adding Elements to a Set\n",
    "You can add elements to a set using the add() method."
   ]
  },
  {
   "cell_type": "code",
   "execution_count": null,
   "id": "e901e200",
   "metadata": {},
   "outputs": [],
   "source": [
    "# Adding elements to a set\n",
    "my_set = {1, 2, 3}\n",
    "my_set.add(4)\n",
    "print(my_set)"
   ]
  },
  {
   "cell_type": "markdown",
   "id": "302c1bc4",
   "metadata": {},
   "source": [
    "### Removing Elements from a Set\n",
    "You can remove elements from a set using the remove() or discard() methods. The difference is that remove() raises a KeyError if the element is not found, while discard() does not."
   ]
  },
  {
   "cell_type": "code",
   "execution_count": null,
   "id": "abcead06",
   "metadata": {},
   "outputs": [],
   "source": [
    "# Removing elements from a set\n",
    "my_set = {1, 2, 3, 4}\n",
    "my_set.remove(3)  # Removes 3\n",
    "print(my_set)  # Output: {1, 2, 4}"
   ]
  },
  {
   "cell_type": "code",
   "execution_count": null,
   "id": "dea2b014",
   "metadata": {},
   "outputs": [],
   "source": [
    "# Using discard() to remove an element\n",
    "my_set.discard(5)  # Does nothing as 5 is not in the set\n",
    "print(my_set)  # Output: {1, 2, 4}"
   ]
  },
  {
   "cell_type": "markdown",
   "id": "de89fb54",
   "metadata": {},
   "source": [
    "### Set Operations\n",
    "Sets support mathematical operations like union, intersection, difference, and symmetric difference."
   ]
  },
  {
   "cell_type": "code",
   "execution_count": null,
   "id": "9f7c99e6",
   "metadata": {},
   "outputs": [],
   "source": [
    "# Set operations\n",
    "set_a = {1, 2, 3}\n",
    "set_b = {3, 4, 5}\n",
    "\n",
    "# Union\n",
    "union_set = set_a | set_b\n",
    "print(\"Union:\", union_set)\n",
    "\n"
   ]
  },
  {
   "cell_type": "code",
   "execution_count": null,
   "id": "dc2b3d7e",
   "metadata": {},
   "outputs": [],
   "source": [
    "# Intersection\n",
    "intersection_set = set_a & set_b\n",
    "print(\"Intersection:\", intersection_set)\n",
    "\n"
   ]
  },
  {
   "cell_type": "code",
   "execution_count": null,
   "id": "61ba79ea",
   "metadata": {},
   "outputs": [],
   "source": [
    "# Difference\n",
    "difference_set = set_a - set_b\n",
    "print(\"Difference:\", difference_set)\n",
    "\n"
   ]
  },
  {
   "cell_type": "code",
   "execution_count": null,
   "id": "e9289952",
   "metadata": {},
   "outputs": [],
   "source": [
    "# Symmetric Difference\n",
    "symmetric_difference_set = set_a ^ set_b\n",
    "print(\"Symmetric Difference:\", symmetric_difference_set)  # Output: Symmetric Difference: {1, 2, 4, 5}\n"
   ]
  },
  {
   "cell_type": "markdown",
   "id": "96b9a4e4",
   "metadata": {},
   "source": [
    "### Looping Through a Set\n",
    "You can iterate over the elements of a set using a for loop."
   ]
  },
  {
   "cell_type": "code",
   "execution_count": null,
   "id": "d02f47f3",
   "metadata": {},
   "outputs": [],
   "source": [
    "my_set = {1, 2, 3}\n",
    "for element in my_set:\n",
    "    print(element)"
   ]
  },
  {
   "cell_type": "markdown",
   "id": "f2600952",
   "metadata": {},
   "source": [
    "### Checking Membership\n",
    "You can check if an element exists in a set using the in keyword."
   ]
  },
  {
   "cell_type": "code",
   "execution_count": null,
   "id": "042c254b",
   "metadata": {},
   "outputs": [],
   "source": [
    "# Checking if an element is in a set\n",
    "my_set = {1, 2, 3}\n",
    "if 2 in my_set:\n",
    "    print(\"2 is in the set.\")\n",
    "else:\n",
    "    print(\"2 is not in the set.\")"
   ]
  },
  {
   "cell_type": "markdown",
   "id": "df22b86d",
   "metadata": {},
   "source": [
    "## Conditional Statements\n",
    "Python uses `if`, `elif`, and `else` for conditional statements."
   ]
  },
  {
   "cell_type": "code",
   "execution_count": null,
   "id": "6fd691a7",
   "metadata": {},
   "outputs": [],
   "source": [
    "num = 10\n",
    "if num > 0:\n",
    "    print('Positive number')\n",
    "elif num == 0:\n",
    "    print('Zero')\n",
    "else:\n",
    "    print('Negative number')"
   ]
  },
  {
   "cell_type": "markdown",
   "id": "b31ba08b",
   "metadata": {},
   "source": [
    "## Loops\n",
    "Python has two main types of loops: `for` loops and `while` loops.\n",
    "\n",
    "- **For Loop**: Iterates over a sequence (like a list or range).\n",
    "- **While Loop**: Repeats as long as a condition is true."
   ]
  },
  {
   "cell_type": "code",
   "execution_count": null,
   "id": "8507b700",
   "metadata": {},
   "outputs": [],
   "source": [
    "# For loop example\n",
    "for i in range(5):\n",
    "    print('Iteration:', i)\n",
    "\n",
    "# While loop example\n",
    "count = 0\n",
    "while count < 5:\n",
    "    print('Count is:', count)\n",
    "    count += 1"
   ]
  },
  {
   "cell_type": "markdown",
   "id": "9551e221",
   "metadata": {},
   "source": [
    "## Functions\n",
    "Functions in Python are defined using the `def` keyword. Functions help us to reuse code."
   ]
  },
  {
   "cell_type": "code",
   "execution_count": null,
   "id": "f1a7137f",
   "metadata": {},
   "outputs": [],
   "source": [
    "def greet(name):\n",
    "    return f'Hello, {name}!'\n",
    "\n",
    "print(greet('Alice'))"
   ]
  },
  {
   "cell_type": "markdown",
   "id": "592352b9",
   "metadata": {},
   "source": [
    "## Basic Libraries\n",
    "Python has many built-in libraries. For example, the `math` library provides mathematical functions."
   ]
  },
  {
   "cell_type": "code",
   "execution_count": null,
   "id": "f799ddbb",
   "metadata": {},
   "outputs": [],
   "source": [
    "import math\n",
    "print('Square root of 16:', math.sqrt(16))\n",
    "print('Value of pi:', math.pi)"
   ]
  },
  {
   "cell_type": "markdown",
   "id": "5481cdf6",
   "metadata": {},
   "source": [
    "# Conclusion\n",
    "This notebook covered the basics of Python. You now know how to work with variables, data types, control structures, functions, and basic libraries. Happy Coding!"
   ]
  }
 ],
 "metadata": {
  "language_info": {
   "name": "python"
  }
 },
 "nbformat": 4,
 "nbformat_minor": 5
}
