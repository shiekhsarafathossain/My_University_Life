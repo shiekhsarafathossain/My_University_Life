{
  "nbformat": 4,
  "nbformat_minor": 0,
  "metadata": {
    "colab": {
      "provenance": []
    },
    "kernelspec": {
      "name": "python3",
      "display_name": "Python 3"
    },
    "language_info": {
      "name": "python"
    }
  },
  "cells": [
    {
      "cell_type": "markdown",
      "source": [
        "# **LAMBDA FUNCTION in PYTHON**\n",
        "\n",
        "\n",
        "A **lambda function** in Python is a small, anonymous function defined using the lambda keyword. Unlike regular functions created with def, a lambda function is a single-expression function that doesn’t require a name, making it ideal for short, simple operations.\n",
        "\n",
        "The syntax for a lambda function is:\n",
        "\n",
        "\n",
        "```\n",
        "lambda arguments: expression\n",
        "```\n",
        "\n",
        "\n",
        "\n",
        "*   **arguments:** Inputs to the function (similar to parameters in a regular function).\n",
        "*   **expression**: A single expression that the lambda function evaluates and returns as output.\n",
        "\n",
        "\n",
        "\n",
        "\n"
      ],
      "metadata": {
        "id": "w_0VMRy-39DQ"
      }
    },
    {
      "cell_type": "markdown",
      "source": [
        "For Example, consider the following function which returns the sum of two integer number"
      ],
      "metadata": {
        "id": "E4SEl41RRjZV"
      }
    },
    {
      "cell_type": "code",
      "source": [
        "def sum(x, y)->int:\n",
        "  z= x+y\n",
        "  return z"
      ],
      "metadata": {
        "id": "zPwCtaCCRqg4"
      },
      "execution_count": 1,
      "outputs": []
    },
    {
      "cell_type": "code",
      "source": [
        "result = sum(20, 15)\n",
        "print(result)"
      ],
      "metadata": {
        "colab": {
          "base_uri": "https://localhost:8080/"
        },
        "id": "P-RuaIygRxZa",
        "outputId": "152281c9-c07f-4885-fc62-44854e5a2ae2"
      },
      "execution_count": 3,
      "outputs": [
        {
          "output_type": "stream",
          "name": "stdout",
          "text": [
            "35\n"
          ]
        }
      ]
    },
    {
      "cell_type": "markdown",
      "source": [
        "**Example of a Simple Lambda Function:**\n",
        "\n",
        "Here's a basic example where we define a lambda function to add two numbers."
      ],
      "metadata": {
        "id": "YRJiw3ygSPva"
      }
    },
    {
      "cell_type": "code",
      "source": [
        "# Defining a lambda function\n",
        "add = lambda x, y: x + y\n",
        "\n",
        "# Using the lambda function\n",
        "result = add(3, 5)\n",
        "print(result)\n"
      ],
      "metadata": {
        "id": "_AdG3eWdScNi"
      },
      "execution_count": null,
      "outputs": []
    },
    {
      "cell_type": "markdown",
      "source": [
        "##**Key Characteristics of Lambda Functions**##\n",
        "\n",
        "1.   Anonymous: Lambda functions are often unnamed and used immediately\n",
        "2.   Single Expression: They can only contain a single line of logic or expression.\n",
        "3. Used Inline: Often used as arguments to functions like map(), filter(), and sorted().\n",
        "\n",
        "\n",
        "\n",
        "\n",
        "\n"
      ],
      "metadata": {
        "id": "-W6ZSQVOSKeO"
      }
    },
    {
      "cell_type": "markdown",
      "source": [
        "#**Lambda Function with Multiple Arguments**#\n",
        "You can use lambda functions with multiple arguments. Here's one that calculates the average of three numbers."
      ],
      "metadata": {
        "id": "DPAWH0YhTCmB"
      }
    },
    {
      "cell_type": "code",
      "source": [
        "# Lambda function to calculate the average of three numbers\n",
        "average = lambda x, y, z: (x + y + z) / 3\n",
        "print(average(5, 10, 15))\n"
      ],
      "metadata": {
        "id": "OQjPJymdTJbB"
      },
      "execution_count": null,
      "outputs": []
    },
    {
      "cell_type": "markdown",
      "source": [
        "#**Using Lambda with map() for Data Transformation**#\n",
        "\n",
        "map() in Python is a function that works as an iterator to return a result after applying a function to every item of an iterable (tuple, lists, etc.). It is used when you want to apply a single transformation function to all the iterable elements.\n",
        "\n",
        "```\n",
        "map(function, iterables)\n",
        "```\n",
        "\n",
        "1. **function**\tRequired. The function to execute for each item\n",
        "2. **iterable**\tRequired. A sequence, collection or an iterator object. You can send as many iterables as you like, just make sure the function has one parameter for each iterable.\n",
        "\n",
        "```\n",
        "def myfunc(n):\n",
        "  return len(n)\n",
        "\n",
        "x = map(myfunc, ('apple', 'banana', 'cherry'))\n",
        "print(list(x))\n",
        "```"
      ],
      "metadata": {
        "id": "ZsnSr9XfTQek"
      }
    },
    {
      "cell_type": "code",
      "source": [
        "# List of numbers\n",
        "numbers = [1, 2, 3, 4, 5]\n",
        "\n",
        "# Using map to double each number in the list\n",
        "doubled = list(map(lambda x: x * 2, numbers))\n",
        "print(doubled)\n"
      ],
      "metadata": {
        "id": "lvpHdJMpTsPd"
      },
      "execution_count": null,
      "outputs": []
    },
    {
      "cell_type": "markdown",
      "source": [
        "#**Lambda Function in a List Comprehension**#\n",
        "\n",
        "You can use lambda functions inside list comprehensions. Here's an example where we apply a lambda function to get the square of each number in a list."
      ],
      "metadata": {
        "id": "bv_f_aVwVkOF"
      }
    },
    {
      "cell_type": "code",
      "source": [
        "# List of numbers\n",
        "numbers = [1, 2, 3, 4]\n",
        "\n",
        "# Using lambda inside a list comprehension to square each number\n",
        "squares = [(lambda x: x ** 2)(x) for x in numbers]\n",
        "print(squares)\n"
      ],
      "metadata": {
        "id": "wlV9sJGzWnqD"
      },
      "execution_count": null,
      "outputs": []
    },
    {
      "cell_type": "code",
      "source": [
        "# List of numbers\n",
        "numbers = [1, 2, 3, 4, 5, 6]\n",
        "\n",
        "# Using lambda to filter even numbers within a list comprehension\n",
        "even_numbers = [x for x in numbers if (lambda x: x % 2 == 0)(x)]\n",
        "print(even_numbers)\n"
      ],
      "metadata": {
        "id": "yZcn0jViqJvY"
      },
      "execution_count": null,
      "outputs": []
    },
    {
      "cell_type": "markdown",
      "source": [
        "#**Using Lambda with Dictionaries**#\n",
        "\n",
        "Lambda functions can also be useful when working with dictionaries, especially for operations on dictionary values.\n",
        "\n",
        "**Example 1:** Applying a Function to Each Value in a Dictionary\n",
        "Suppose you have a dictionary with prices and want to apply a 10% discount to each price:"
      ],
      "metadata": {
        "id": "TrRJjP15qNKO"
      }
    },
    {
      "cell_type": "code",
      "source": [
        "# Dictionary of prices\n",
        "prices = {'apple': 1.00, 'banana': 0.50, 'cherry': 1.20}\n",
        "\n",
        "# Using lambda to apply a 10% discount to each price\n",
        "discounted_prices = {k: (lambda price: price * 0.9)(v) for k, v in prices.items()}\n",
        "print(discounted_prices)\n"
      ],
      "metadata": {
        "id": "mYmD9hXkqMcM"
      },
      "execution_count": null,
      "outputs": []
    },
    {
      "cell_type": "markdown",
      "source": [
        "**Example 2:** Creating a New Dictionary with Conditional Values\n",
        "Here’s an example of creating a dictionary that marks numbers as 'even' or 'odd'."
      ],
      "metadata": {
        "id": "e2gF56opqg7b"
      }
    },
    {
      "cell_type": "code",
      "source": [
        "# List of numbers\n",
        "numbers = [1, 2, 3, 4, 5]\n",
        "\n",
        "# Using lambda to create a dictionary where each number is labeled 'even' or 'odd'\n",
        "number_labels = {x: (lambda x: 'even' if x % 2 == 0 else 'odd')(x) for x in numbers}\n",
        "print(number_labels)\n"
      ],
      "metadata": {
        "id": "FjDFuNeaqesA"
      },
      "execution_count": null,
      "outputs": []
    },
    {
      "cell_type": "markdown",
      "source": [
        "#**Defining a Class in Python**#\n",
        "A class is defined using the ```class``` keyword, followed by the class name and a colon. Inside the class, you define methods, including ```__init__```, to define the attributes and behaviors.\n",
        "\n",
        "The ```__init__``` method, also called the constructor, is a special method used to initialize an object's attributes when it is created.\n",
        "\n",
        "```\n",
        "class ClassName:\n",
        "    def __init__(self, parameters):\n",
        "        # Initialization code\n",
        "        self.attribute = value\n",
        "```"
      ],
      "metadata": {
        "id": "dKwDls8YsK62"
      }
    },
    {
      "cell_type": "markdown",
      "source": [
        "**Example: Defining a Class with the ```__init__``` Method.**\n",
        "\n",
        "Let's create a Person class that initializes an object with a name and age."
      ],
      "metadata": {
        "id": "d_9lcLwEstkB"
      }
    },
    {
      "cell_type": "code",
      "source": [
        "class Person:\n",
        "    def __init__(self, name, age):\n",
        "        # Initializing attributes\n",
        "        self.name = name\n",
        "        self.age = age\n",
        "\n",
        "    def greet(self):\n",
        "        # Method to greet with the person's name\n",
        "        return f\"Hello, my name is {self.name} and I am {self.age} years old.\"\n"
      ],
      "metadata": {
        "id": "JA_2kCBRsk9o"
      },
      "execution_count": null,
      "outputs": []
    },
    {
      "cell_type": "markdown",
      "source": [
        "**Creating an Instance of the Class**\n",
        "\n",
        "You can create an instance of the Person class by calling it with the required arguments. The ```__init__``` method initializes the instance with the given values for name and age."
      ],
      "metadata": {
        "id": "kcoKOHRatASL"
      }
    },
    {
      "cell_type": "code",
      "source": [
        "# Creating a Person instance\n",
        "person1 = Person(\"Alice\", 30)\n",
        "\n",
        "# Accessing attributes\n",
        "print(person1.name)\n",
        "print(person1.age)\n",
        "\n",
        "# Calling a method\n",
        "print(person1.greet())\n"
      ],
      "metadata": {
        "id": "E7KDNHpTtGv5"
      },
      "execution_count": null,
      "outputs": []
    },
    {
      "cell_type": "markdown",
      "source": [
        "**Key Points About the __init__ Method**\n",
        "\n",
        "1. **Initialization:** It sets up initial values for the object’s attributes.\n",
        "2. **Automatic Call:** When you create an instance of a class, Python automatically calls ```__init__```.\n",
        "2. **Customizable:** You can define any number of attributes by passing parameters to __init__.\n",
        "The ```__init__``` method is essential for setting up objects in Python classes, ensuring that each object starts with a defined set of attributes."
      ],
      "metadata": {
        "id": "fh-KunzptTOS"
      }
    },
    {
      "cell_type": "code",
      "source": [],
      "metadata": {
        "id": "cTaoDBn1uLNN"
      },
      "execution_count": null,
      "outputs": []
    }
  ]
}